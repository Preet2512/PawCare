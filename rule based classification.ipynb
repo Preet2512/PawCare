{
 "cells": [
  {
   "cell_type": "code",
   "execution_count": 1,
   "id": "50e8cdd8-f3c9-4754-a976-7c1a1570d6b5",
   "metadata": {
    "scrolled": true
   },
   "outputs": [
    {
     "name": "stdout",
     "output_type": "stream",
     "text": [
      "\n",
      "Classification Report:\n",
      "               precision    recall  f1-score   support\n",
      "\n",
      "           0       0.00      0.00      0.00         0\n",
      "           6       0.00      0.00      0.00         1\n",
      "           9       0.00      0.00      0.00         1\n",
      "          15       0.00      0.00      0.00         1\n",
      "          19       0.00      0.00      0.00         1\n",
      "          22       0.00      0.00      0.00         1\n",
      "          24       0.00      0.00      0.00         1\n",
      "          25       0.00      0.00      0.00         1\n",
      "          30       0.00      0.00      0.00         1\n",
      "          42       0.00      0.00      0.00         1\n",
      "          45       0.00      0.00      0.00         1\n",
      "          46       0.00      0.00      0.00         1\n",
      "          60       0.00      0.00      0.00         1\n",
      "          62       1.00      1.00      1.00        43\n",
      "\n",
      "    accuracy                           0.78        55\n",
      "   macro avg       0.07      0.07      0.07        55\n",
      "weighted avg       0.78      0.78      0.78        55\n",
      "\n",
      "Current accuracy is 78.18181818181819%\n"
     ]
    },
    {
     "name": "stderr",
     "output_type": "stream",
     "text": [
      "D:\\Anaconda\\Lib\\site-packages\\sklearn\\metrics\\_classification.py:1469: UndefinedMetricWarning: Precision and F-score are ill-defined and being set to 0.0 in labels with no predicted samples. Use `zero_division` parameter to control this behavior.\n",
      "  _warn_prf(average, modifier, msg_start, len(result))\n",
      "D:\\Anaconda\\Lib\\site-packages\\sklearn\\metrics\\_classification.py:1469: UndefinedMetricWarning: Recall and F-score are ill-defined and being set to 0.0 in labels with no true samples. Use `zero_division` parameter to control this behavior.\n",
      "  _warn_prf(average, modifier, msg_start, len(result))\n",
      "D:\\Anaconda\\Lib\\site-packages\\sklearn\\metrics\\_classification.py:1469: UndefinedMetricWarning: Precision and F-score are ill-defined and being set to 0.0 in labels with no predicted samples. Use `zero_division` parameter to control this behavior.\n",
      "  _warn_prf(average, modifier, msg_start, len(result))\n",
      "D:\\Anaconda\\Lib\\site-packages\\sklearn\\metrics\\_classification.py:1469: UndefinedMetricWarning: Recall and F-score are ill-defined and being set to 0.0 in labels with no true samples. Use `zero_division` parameter to control this behavior.\n",
      "  _warn_prf(average, modifier, msg_start, len(result))\n",
      "D:\\Anaconda\\Lib\\site-packages\\sklearn\\metrics\\_classification.py:1469: UndefinedMetricWarning: Precision and F-score are ill-defined and being set to 0.0 in labels with no predicted samples. Use `zero_division` parameter to control this behavior.\n",
      "  _warn_prf(average, modifier, msg_start, len(result))\n",
      "D:\\Anaconda\\Lib\\site-packages\\sklearn\\metrics\\_classification.py:1469: UndefinedMetricWarning: Recall and F-score are ill-defined and being set to 0.0 in labels with no true samples. Use `zero_division` parameter to control this behavior.\n",
      "  _warn_prf(average, modifier, msg_start, len(result))\n"
     ]
    },
    {
     "data": {
      "text/plain": [
       "['C:/Users/Preet/Desktop/Dog Healthcare System/dog_health_model.pkl']"
      ]
     },
     "execution_count": 1,
     "metadata": {},
     "output_type": "execute_result"
    }
   ],
   "source": [
    "import pandas as pd\n",
    "from sklearn.preprocessing import LabelEncoder\n",
    "from sklearn.model_selection import train_test_split\n",
    "from sklearn.tree import DecisionTreeClassifier\n",
    "from sklearn.metrics import accuracy_score, classification_report\n",
    "\n",
    "df = pd.read_csv('C:/Users/Preet/Desktop/Dog Healthcare System/Dataset.csv')\n",
    "df1 = df.drop('Disease', axis=1)\n",
    "df1 = df1.replace({'Yes': 1, 'No': 0})\n",
    "le = LabelEncoder()\n",
    "label = le.fit_transform(df['Disease'])\n",
    "X = df1\n",
    "y = label  \n",
    "X_train, X_test, y_train, y_test = train_test_split(X, y, test_size=0.2, random_state=42)\n",
    "\n",
    "clf = DecisionTreeClassifier(random_state=42)\n",
    "\n",
    "clf.fit(X_train, y_train)\n",
    "\n",
    "y_pred = clf.predict(X_test)\n",
    "\n",
    "a= accuracy_score(y_test, y_pred)\n",
    "print(\"\\nClassification Report:\\n\", classification_report(y_test, y_pred))\n",
    "print(\"Current accuracy is {}%\".format(a*100))\n",
    "\n",
    "import joblib\n",
    "\n",
    "# Save model to file\n",
    "joblib.dump(clf, 'C:/Users/Preet/Desktop/Dog Healthcare System/dog_health_model.pkl')\n"
   ]
  },
  {
   "cell_type": "code",
   "execution_count": 1,
   "id": "118902b6-f35b-49ce-82cc-53ab2f58d3b4",
   "metadata": {
    "scrolled": true
   },
   "outputs": [
    {
     "name": "stdout",
     "output_type": "stream",
     "text": [
      "\n",
      "Classification Report:\n",
      "               precision    recall  f1-score   support\n",
      "\n",
      "           0       0.00      0.00      0.00         0\n",
      "           6       0.00      0.00      0.00         1\n",
      "           9       0.00      0.00      0.00         1\n",
      "          15       0.00      0.00      0.00         1\n",
      "          19       0.00      0.00      0.00         1\n",
      "          22       0.00      0.00      0.00         1\n",
      "          24       0.00      0.00      0.00         1\n",
      "          25       0.00      0.00      0.00         1\n",
      "          30       0.00      0.00      0.00         1\n",
      "          42       0.00      0.00      0.00         1\n",
      "          45       0.00      0.00      0.00         1\n",
      "          46       0.00      0.00      0.00         1\n",
      "          60       0.00      0.00      0.00         1\n",
      "          62       1.00      1.00      1.00        43\n",
      "\n",
      "    accuracy                           0.78        55\n",
      "   macro avg       0.07      0.07      0.07        55\n",
      "weighted avg       0.78      0.78      0.78        55\n",
      "\n",
      "Current accuracy is 78.18181818181819%\n"
     ]
    },
    {
     "name": "stderr",
     "output_type": "stream",
     "text": [
      "D:\\Anaconda\\Lib\\site-packages\\sklearn\\metrics\\_classification.py:1469: UndefinedMetricWarning: Precision and F-score are ill-defined and being set to 0.0 in labels with no predicted samples. Use `zero_division` parameter to control this behavior.\n",
      "  _warn_prf(average, modifier, msg_start, len(result))\n",
      "D:\\Anaconda\\Lib\\site-packages\\sklearn\\metrics\\_classification.py:1469: UndefinedMetricWarning: Recall and F-score are ill-defined and being set to 0.0 in labels with no true samples. Use `zero_division` parameter to control this behavior.\n",
      "  _warn_prf(average, modifier, msg_start, len(result))\n",
      "D:\\Anaconda\\Lib\\site-packages\\sklearn\\metrics\\_classification.py:1469: UndefinedMetricWarning: Precision and F-score are ill-defined and being set to 0.0 in labels with no predicted samples. Use `zero_division` parameter to control this behavior.\n",
      "  _warn_prf(average, modifier, msg_start, len(result))\n",
      "D:\\Anaconda\\Lib\\site-packages\\sklearn\\metrics\\_classification.py:1469: UndefinedMetricWarning: Recall and F-score are ill-defined and being set to 0.0 in labels with no true samples. Use `zero_division` parameter to control this behavior.\n",
      "  _warn_prf(average, modifier, msg_start, len(result))\n",
      "D:\\Anaconda\\Lib\\site-packages\\sklearn\\metrics\\_classification.py:1469: UndefinedMetricWarning: Precision and F-score are ill-defined and being set to 0.0 in labels with no predicted samples. Use `zero_division` parameter to control this behavior.\n",
      "  _warn_prf(average, modifier, msg_start, len(result))\n",
      "D:\\Anaconda\\Lib\\site-packages\\sklearn\\metrics\\_classification.py:1469: UndefinedMetricWarning: Recall and F-score are ill-defined and being set to 0.0 in labels with no true samples. Use `zero_division` parameter to control this behavior.\n",
      "  _warn_prf(average, modifier, msg_start, len(result))\n"
     ]
    },
    {
     "data": {
      "text/plain": [
       "['C:/Users/Preet/Desktop/Dog Healthcare System/dog_health_model.pkl']"
      ]
     },
     "execution_count": 1,
     "metadata": {},
     "output_type": "execute_result"
    }
   ],
   "source": [
    "import pandas as pd\n",
    "from sklearn.preprocessing import LabelEncoder\n",
    "from sklearn.model_selection import train_test_split\n",
    "from sklearn.tree import DecisionTreeClassifier\n",
    "from sklearn.metrics import accuracy_score, classification_report\n",
    "\n",
    "df = pd.read_csv('C:/Users/Preet/Desktop/Dog Healthcare System/Dataset.csv')\n",
    "df1 = df.drop('Disease', axis=1)\n",
    "df1 = df1.replace({'Yes': 1, 'No': 0})\n",
    "le = LabelEncoder()\n",
    "label = le.fit_transform(df['Disease'])\n",
    "X = df1\n",
    "y = label  \n",
    "X_train, X_test, y_train, y_test = train_test_split(X, y, test_size=0.2, random_state=42)\n",
    "\n",
    "clf = DecisionTreeClassifier(random_state=42)\n",
    "\n",
    "clf.fit(X_train, y_train)\n",
    "\n",
    "y_pred = clf.predict(X_test)\n",
    "\n",
    "a= accuracy_score(y_test, y_pred)\n",
    "print(\"\\nClassification Report:\\n\", classification_report(y_test, y_pred))\n",
    "print(\"Current accuracy is {}%\".format(a*100))\n",
    "\n",
    "import joblib\n",
    "\n",
    "# Save model to file\n",
    "joblib.dump(clf, 'C:/Users/Preet/Desktop/Dog Healthcare System/dog_health_model.pkl')\n"
   ]
  },
  {
   "cell_type": "code",
   "execution_count": 3,
   "id": "df3f7ea4-ccef-41e1-a9f6-4cb1ce92b3ed",
   "metadata": {
    "scrolled": true
   },
   "outputs": [
    {
     "name": "stdout",
     "output_type": "stream",
     "text": [
      "\n",
      "Classification Report:\n",
      "               precision    recall  f1-score   support\n",
      "\n",
      "           0       0.71      0.83      0.77         6\n",
      "           1       0.50      1.00      0.67         2\n",
      "           2       0.29      0.50      0.36         4\n",
      "           3       1.00      0.60      0.75         5\n",
      "           4       0.50      0.33      0.40         3\n",
      "           5       0.50      0.20      0.29         5\n",
      "           6       1.00      1.00      1.00         8\n",
      "\n",
      "    accuracy                           0.67        33\n",
      "   macro avg       0.64      0.64      0.61        33\n",
      "weighted avg       0.71      0.67      0.66        33\n",
      "\n",
      "Current accuracy is 66.66666666666666%\n"
     ]
    },
    {
     "data": {
      "text/plain": [
       "['C:/Users/Preet/Desktop/Dog Healthcare System/label_encoder2.pkl']"
      ]
     },
     "execution_count": 3,
     "metadata": {},
     "output_type": "execute_result"
    }
   ],
   "source": [
    "import pandas as pd\n",
    "from sklearn.preprocessing import LabelEncoder\n",
    "from sklearn.model_selection import train_test_split\n",
    "from sklearn.tree import DecisionTreeClassifier\n",
    "from sklearn.metrics import accuracy_score, classification_report\n",
    "\n",
    "df = pd.read_csv('C:/Users/Preet/Downloads/dogfinal3.csv')\n",
    "df1 = df.drop('diseases', axis=1)\n",
    "df1 = df1.replace({'Yes': 1, 'No': 0})\n",
    "le = LabelEncoder()\n",
    "label = le.fit_transform(df['diseases'])\n",
    "X = df1\n",
    "y = label  \n",
    "X_train, X_test, y_train, y_test = train_test_split(X, y, test_size=0.2, random_state=42)\n",
    "\n",
    "clf = DecisionTreeClassifier(random_state=42)\n",
    "\n",
    "clf.fit(X_train, y_train)\n",
    "\n",
    "y_pred = clf.predict(X_test)\n",
    "\n",
    "a= accuracy_score(y_test, y_pred)\n",
    "print(\"\\nClassification Report:\\n\", classification_report(y_test, y_pred))\n",
    "print(\"Current accuracy is {}%\".format(a*100))\n",
    "\n",
    "import joblib\n",
    "\n",
    "# Save model to file\n",
    "joblib.dump(clf, 'C:/Users/Preet/Desktop/Dog Healthcare System/dog_health_model2.pkl')\n",
    "\n",
    "le = LabelEncoder()\n",
    "le.fit(df['diseases'])\n",
    "joblib.dump(le, 'C:/Users/Preet/Desktop/Dog Healthcare System/label_encoder2.pkl')\n"
   ]
  }
